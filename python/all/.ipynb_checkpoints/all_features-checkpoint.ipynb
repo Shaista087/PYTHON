{
 "cells": [
  {
   "cell_type": "markdown",
   "metadata": {
    "_cell_guid": "3bb42045-03bc-0ca3-36c9-9379444c88b1",
    "_uuid": "c462835a6751b6f9e113c8ecfa208c1e1d8b8594"
   },
   "source": [
    "# Which Classifier Should I Choose? \n",
    "\n",
    "This is one of the most import questions to ask when approaching a machine learning problem. I find it easier to just test them all at once. Here's 10 of your favorite Scikit-Learn algorithms applied to the leaf data. "
   ]
  },
  {
   "cell_type": "code",
   "execution_count": 1,
   "metadata": {
    "_cell_guid": "e86aec01-dbc6-4696-e066-6da72fedd092",
    "_uuid": "6cfacfa27461e43bdd2ace6986ae0ed6b7332f13"
   },
   "outputs": [],
   "source": [
    "import numpy as np\n",
    "import pandas as pd\n",
    "import seaborn as sns\n",
    "import matplotlib.pyplot as plt\n",
    "\n",
    "def warn(*args, **kwargs): pass\n",
    "import warnings\n",
    "warnings.warn = warn\n",
    "\n",
    "from sklearn.preprocessing import LabelEncoder\n",
    "from sklearn.cross_validation import StratifiedShuffleSplit\n",
    "\n",
    "train = pd.read_csv(r\"C:\\Users\\Electonics\\OneDrive\\Desktop\\mphil_research\\all\\train.csv\")\n",
    "test = pd.read_csv(r\"C:\\Users\\Electonics\\OneDrive\\Desktop\\mphil_research\\all\\test.csv\")"
   ]
  },
  {
   "cell_type": "markdown",
   "metadata": {
    "_cell_guid": "5de1ab5b-9b22-2375-4705-f6d12e9d3046",
    "_uuid": "2447a8c94d29d023d3a90ff1b0b6e22d3aa596e1"
   },
   "source": [
    "## Data Preparation\n"
   ]
  },
  {
   "cell_type": "code",
   "execution_count": 2,
   "metadata": {
    "_cell_guid": "361c2695-95c0-745a-0336-a49f6dec97b2",
    "_uuid": "d4cfb821919c28ccdcaff6072ed358714aaeec5a"
   },
   "outputs": [
    {
     "data": {
      "text/html": [
       "<div>\n",
       "<style scoped>\n",
       "    .dataframe tbody tr th:only-of-type {\n",
       "        vertical-align: middle;\n",
       "    }\n",
       "\n",
       "    .dataframe tbody tr th {\n",
       "        vertical-align: top;\n",
       "    }\n",
       "\n",
       "    .dataframe thead th {\n",
       "        text-align: right;\n",
       "    }\n",
       "</style>\n",
       "<table border=\"1\" class=\"dataframe\">\n",
       "  <thead>\n",
       "    <tr style=\"text-align: right;\">\n",
       "      <th></th>\n",
       "      <th>margin1</th>\n",
       "      <th>margin2</th>\n",
       "      <th>margin3</th>\n",
       "      <th>margin4</th>\n",
       "      <th>margin5</th>\n",
       "      <th>margin6</th>\n",
       "      <th>margin7</th>\n",
       "      <th>margin8</th>\n",
       "      <th>margin9</th>\n",
       "      <th>margin10</th>\n",
       "      <th>...</th>\n",
       "      <th>texture55</th>\n",
       "      <th>texture56</th>\n",
       "      <th>texture57</th>\n",
       "      <th>texture58</th>\n",
       "      <th>texture59</th>\n",
       "      <th>texture60</th>\n",
       "      <th>texture61</th>\n",
       "      <th>texture62</th>\n",
       "      <th>texture63</th>\n",
       "      <th>texture64</th>\n",
       "    </tr>\n",
       "  </thead>\n",
       "  <tbody>\n",
       "    <tr>\n",
       "      <th>0</th>\n",
       "      <td>0.007812</td>\n",
       "      <td>0.023438</td>\n",
       "      <td>0.023438</td>\n",
       "      <td>0.003906</td>\n",
       "      <td>0.011719</td>\n",
       "      <td>0.009766</td>\n",
       "      <td>0.027344</td>\n",
       "      <td>0.0</td>\n",
       "      <td>0.001953</td>\n",
       "      <td>0.033203</td>\n",
       "      <td>...</td>\n",
       "      <td>0.007812</td>\n",
       "      <td>0.0</td>\n",
       "      <td>0.00293</td>\n",
       "      <td>0.00293</td>\n",
       "      <td>0.035156</td>\n",
       "      <td>0.0</td>\n",
       "      <td>0.0</td>\n",
       "      <td>0.004883</td>\n",
       "      <td>0.0</td>\n",
       "      <td>0.025391</td>\n",
       "    </tr>\n",
       "  </tbody>\n",
       "</table>\n",
       "<p>1 rows × 192 columns</p>\n",
       "</div>"
      ],
      "text/plain": [
       "    margin1   margin2   margin3   margin4   margin5   margin6   margin7  \\\n",
       "0  0.007812  0.023438  0.023438  0.003906  0.011719  0.009766  0.027344   \n",
       "\n",
       "   margin8   margin9  margin10    ...      texture55  texture56  texture57  \\\n",
       "0      0.0  0.001953  0.033203    ...       0.007812        0.0    0.00293   \n",
       "\n",
       "   texture58  texture59  texture60  texture61  texture62  texture63  texture64  \n",
       "0    0.00293   0.035156        0.0        0.0   0.004883        0.0   0.025391  \n",
       "\n",
       "[1 rows x 192 columns]"
      ]
     },
     "execution_count": 2,
     "metadata": {},
     "output_type": "execute_result"
    }
   ],
   "source": [
    "# Swiss army knife function to organize the data\n",
    "\n",
    "def encode(train, test):\n",
    "    le = LabelEncoder().fit(train.species) \n",
    "    labels = le.transform(train.species)           # encode species strings\n",
    "    classes = list(le.classes_)                    # save column names for submission\n",
    "    test_ids = test.id                             # save test ids for submission\n",
    "    \n",
    "    train = train.drop(['species', 'id'], axis=1)  \n",
    "    test = test.drop(['id'], axis=1)\n",
    "    \n",
    "    return train, labels, test, test_ids, classes\n",
    "\n",
    "train, labels, test, test_ids, classes = encode(train, test)\n",
    "train.head(1)"
   ]
  },
  {
   "cell_type": "markdown",
   "metadata": {
    "_cell_guid": "3222a1a2-6df6-e5a6-2c4d-65383fc9ee66",
    "_uuid": "298142976f95e1b8b86b6bc028a99741f1cbe385"
   },
   "source": [
    "## Stratified Train/Test Split\n",
    "\n",
    "Stratification is necessary for this dataset because there is a relatively large number of classes (100 classes for 990 samples). This will ensure we have all classes represented in both the train and test indices. "
   ]
  },
  {
   "cell_type": "code",
   "execution_count": 3,
   "metadata": {
    "_cell_guid": "7c91b9c9-3b4d-73ac-92d8-db0792f60a3e",
    "_uuid": "1989d05cd0e2a8f2d23642d67f9c4e94c6a08166"
   },
   "outputs": [],
   "source": [
    "sss = StratifiedShuffleSplit(labels, 10, test_size=0.2, random_state=23)\n",
    "\n",
    "for train_index, test_index in sss:\n",
    "    X_train, X_test = train.values[train_index], train.values[test_index]\n",
    "    y_train, y_test = labels[train_index], labels[test_index]\n",
    "    \n",
    "from sklearn.preprocessing import StandardScaler\n",
    "scaler = StandardScaler()\n",
    "scaler.fit(X_train)\n",
    "\n",
    "X_train = scaler.transform(X_train)\n",
    "X_test = scaler.transform(X_test)"
   ]
  },
  {
   "cell_type": "markdown",
   "metadata": {
    "_cell_guid": "e1172a79-cdc8-6544-2580-4a58ee9fb434",
    "_uuid": "4a67286a857751c6543b31334e0871ff211988a5"
   },
   "source": [
    "## Sklearn Classifier Showdown\n",
    "\n",
    "Simply looping through 10 out-of-the box classifiers and printing the results. Obviously, these will perform much better after tuning their hyperparameters, but this gives you a decent ballpark idea. "
   ]
  },
  {
   "cell_type": "code",
   "execution_count": 4,
   "metadata": {
    "_cell_guid": "fb7913b9-e36d-ef8b-a012-cc708b583ab4",
    "_uuid": "a7199df26509ff07c3586b2aeec65c7b5b93cc4f"
   },
   "outputs": [
    {
     "name": "stdout",
     "output_type": "stream",
     "text": [
      "==============================\n",
      "LinearDiscriminantAnalysis\n",
      "****Results****\n",
      "Accuracy: 97.9798%\n",
      "Log Loss: 0.9301977763139309\n"
     ]
    },
    {
     "name": "stderr",
     "output_type": "stream",
     "text": [
      "C:\\Users\\Electonics\\Anaconda3\\lib\\site-packages\\sklearn\\discriminant_analysis.py:510: RuntimeWarning: overflow encountered in exp\n",
      "  np.exp(prob, prob)\n"
     ]
    },
    {
     "name": "stdout",
     "output_type": "stream",
     "text": [
      "==============================\n",
      "NuSVC\n",
      "****Results****\n",
      "Accuracy: 98.9899%\n",
      "Log Loss: 2.3706858396679613\n",
      "==============================\n",
      "SVC\n",
      "****Results****\n",
      "Accuracy: 98.4848%\n",
      "Log Loss: 4.647259496943922\n",
      "==============================\n",
      "KNeighborsClassifier\n",
      "****Results****\n",
      "Accuracy: 96.9697%\n",
      "Log Loss: 0.23699365998035135\n",
      "==============================\n",
      "DecisionTreeClassifier\n",
      "****Results****\n",
      "Accuracy: 63.1313%\n",
      "Log Loss: 12.733993317315653\n",
      "==============================\n",
      "GradientBoostingClassifier\n",
      "****Results****\n",
      "Accuracy: 56.0606%\n",
      "Log Loss: 2.719009657629679\n",
      "==============================\n",
      "GaussianNB\n",
      "****Results****\n",
      "Accuracy: 57.0707%\n",
      "Log Loss: 14.827255466722855\n",
      "==============================\n"
     ]
    }
   ],
   "source": [
    "from sklearn.metrics import accuracy_score, log_loss\n",
    "from sklearn.neighbors import KNeighborsClassifier\n",
    "from sklearn.svm import SVC, LinearSVC, NuSVC\n",
    "from sklearn.tree import DecisionTreeClassifier\n",
    "from sklearn.ensemble import RandomForestClassifier, AdaBoostClassifier, GradientBoostingClassifier\n",
    "from sklearn.naive_bayes import GaussianNB\n",
    "from sklearn.discriminant_analysis import LinearDiscriminantAnalysis\n",
    "from sklearn.discriminant_analysis import QuadraticDiscriminantAnalysis\n",
    "\n",
    "classifiers = [\n",
    "    LinearDiscriminantAnalysis(),\n",
    "    NuSVC(probability=True),\n",
    "    SVC(kernel=\"rbf\", C=0.025, probability=True),\n",
    "    KNeighborsClassifier(3),\n",
    "    DecisionTreeClassifier(),\n",
    "    GradientBoostingClassifier(),\n",
    "    GaussianNB(),\n",
    "    #RandomForestClassifier(),\n",
    "    #AdaBoostClassifier(),\n",
    "    # QuadraticDiscriminantAnalysis()\n",
    "]\n",
    "\n",
    "# Logging for Visual Comparison\n",
    "log_cols=[\"Classifier\", \"Accuracy\", \"Log Loss\"]\n",
    "log = pd.DataFrame(columns=log_cols)\n",
    "\n",
    "for clf in classifiers:\n",
    "    clf.fit(X_train, y_train)\n",
    "    name = clf.__class__.__name__\n",
    "    \n",
    "    print(\"=\"*30)\n",
    "    print(name)\n",
    "    \n",
    "    print('****Results****')\n",
    "    train_predictions = clf.predict(X_test)\n",
    "    acc = accuracy_score(y_test, train_predictions)\n",
    "    print(\"Accuracy: {:.4%}\".format(acc))\n",
    "    \n",
    "    train_predictions = clf.predict_proba(X_test)\n",
    "    ll = log_loss(y_test, train_predictions)\n",
    "    print(\"Log Loss: {}\".format(ll))\n",
    "    \n",
    "    log_entry = pd.DataFrame([[name, acc*100, ll]], columns=log_cols)\n",
    "    log = log.append(log_entry)\n",
    "    \n",
    "print(\"=\"*30)\n"
   ]
  },
  {
   "cell_type": "code",
   "execution_count": 5,
   "metadata": {
    "_cell_guid": "5d972faa-01b5-f354-155b-9ab11cb9ab63",
    "_uuid": "2e212628c667ca4b395035104cde4da7ae22ce1a"
   },
   "outputs": [
    {
     "data": {
      "image/png": "[encoded data removed]",
      "text/plain": [
       "<Figure size 432x288 with 1 Axes>"
      ]
     },
     "metadata": {},
     "output_type": "display_data"
    },
    {
     "data": {
      "image/png": "[encoded data removed]",
      "text/plain": [
       "<Figure size 432x288 with 1 Axes>"
      ]
     },
     "metadata": {},
     "output_type": "display_data"
    }
   ],
   "source": [
    "sns.set_color_codes(\"muted\")\n",
    "sns.barplot(x='Accuracy', y='Classifier', data=log, color=\"b\")\n",
    "\n",
    "plt.xlabel('Accuracy %')\n",
    "plt.title('Classifier Accuracy (All Features) ')\n",
    "plt.show()\n",
    "\n",
    "sns.set_color_codes(\"muted\")\n",
    "sns.barplot(x='Log Loss', y='Classifier', data=log, color=\"g\")\n",
    "\n",
    "plt.xlabel('Log Loss')\n",
    "plt.title('Classifier Log Loss')\n",
    "plt.show()"
   ]
  },
  {
   "cell_type": "markdown",
   "metadata": {
    "_cell_guid": "0f97c983-69ac-486d-b454-f3385f4c9803",
    "_uuid": "b1070c322100f752d7dafdd655bff5e7f54fd6d1"
   },
   "source": [
    "**##Random search for optimal hyperparameters of the SVM classifier**"
   ]
  },
  {
   "cell_type": "code",
   "execution_count": 6,
   "metadata": {
    "_cell_guid": "caaedf52-b839-48e3-a0ad-46f4b0e993fe",
    "_uuid": "b92796e4d96eed78a24e8d97a7950cf1a3df0740",
    "scrolled": true
   },
   "outputs": [
    {
     "data": {
      "text/plain": [
       "{'C': 112.5858885677127,\n",
       " 'class_weight': 'balanced',\n",
       " 'gamma': 0.01385706976694965,\n",
       " 'kernel': 'rbf'}"
      ]
     },
     "execution_count": 6,
     "metadata": {},
     "output_type": "execute_result"
    }
   ],
   "source": [
    "import scipy\n",
    "from sklearn.grid_search import RandomizedSearchCV\n",
    "clf = SVC(probability=True, random_state=1)\n",
    "param_grid = {'C': scipy.stats.expon(scale=100), 'gamma': scipy.stats.expon(scale=.1),\n",
    "  'kernel': ['rbf'], 'class_weight':['balanced', None]}\n",
    "rand_search = RandomizedSearchCV(clf, param_distributions = param_grid, n_iter = 20) \n",
    "rand_search.fit(X_train,y_train) \n",
    "rand_search.best_params_"
   ]
  },
  {
   "cell_type": "code",
   "execution_count": 7,
   "metadata": {
    "_cell_guid": "e36053d6-0dff-4072-b2a2-04550cc2fc48",
    "_uuid": "d11e33d8f26d808adb50860c857998f3670c36c0",
    "scrolled": true
   },
   "outputs": [
    {
     "name": "stdout",
     "output_type": "stream",
     "text": [
      "Accuracy: 98.4848%\n"
     ]
    }
   ],
   "source": [
    "predr = rand_search.predict(X_test)\n",
    "print(\"Accuracy: {:.4%}\".format(accuracy_score(y_test,predr)))"
   ]
  },
  {
   "cell_type": "markdown",
   "metadata": {
    "_cell_guid": "bbab4ca8-1050-4a40-a17f-6fdbbb58ba12",
    "_uuid": "187349e5636f1072f1c5667ac639d23d9cfecd67"
   },
   "source": [
    "Hyperparameter tuning gives us an accuracy boost of over 1%!!!"
   ]
  },
  {
   "cell_type": "markdown",
   "metadata": {
    "_cell_guid": "d6948e0b-fa3f-151d-baf4-a5e12f6fd1ec",
    "_uuid": "94de4774ee06a396e3d9b3ee23e43788376c6da4"
   },
   "source": [
    "## Submission\n",
    "\n",
    "After choosing your favorite classifier, format the output for a leaderboard submission. "
   ]
  },
  {
   "cell_type": "code",
   "execution_count": 8,
   "metadata": {
    "_cell_guid": "e8370e61-ea98-94a6-2b46-99ca7e401e9f",
    "_uuid": "ebb36516c99c92135dfbdb50b32c40cd36329448"
   },
   "outputs": [
    {
     "data": {
      "text/html": [
       "<div>\n",
       "<style scoped>\n",
       "    .dataframe tbody tr th:only-of-type {\n",
       "        vertical-align: middle;\n",
       "    }\n",
       "\n",
       "    .dataframe tbody tr th {\n",
       "        vertical-align: top;\n",
       "    }\n",
       "\n",
       "    .dataframe thead th {\n",
       "        text-align: right;\n",
       "    }\n",
       "</style>\n",
       "<table border=\"1\" class=\"dataframe\">\n",
       "  <thead>\n",
       "    <tr style=\"text-align: right;\">\n",
       "      <th></th>\n",
       "      <th>id</th>\n",
       "      <th>Acer_Capillipes</th>\n",
       "      <th>Acer_Circinatum</th>\n",
       "      <th>Acer_Mono</th>\n",
       "      <th>Acer_Opalus</th>\n",
       "      <th>Acer_Palmatum</th>\n",
       "      <th>Acer_Pictum</th>\n",
       "      <th>Acer_Platanoids</th>\n",
       "      <th>Acer_Rubrum</th>\n",
       "      <th>Acer_Rufinerve</th>\n",
       "      <th>...</th>\n",
       "      <th>Salix_Fragilis</th>\n",
       "      <th>Salix_Intergra</th>\n",
       "      <th>Sorbus_Aria</th>\n",
       "      <th>Tilia_Oliveri</th>\n",
       "      <th>Tilia_Platyphyllos</th>\n",
       "      <th>Tilia_Tomentosa</th>\n",
       "      <th>Ulmus_Bergmanniana</th>\n",
       "      <th>Viburnum_Tinus</th>\n",
       "      <th>Viburnum_x_Rhytidophylloides</th>\n",
       "      <th>Zelkova_Serrata</th>\n",
       "    </tr>\n",
       "  </thead>\n",
       "  <tbody>\n",
       "    <tr>\n",
       "      <th>589</th>\n",
       "      <td>1576</td>\n",
       "      <td>0.011456</td>\n",
       "      <td>0.011119</td>\n",
       "      <td>0.009949</td>\n",
       "      <td>0.029856</td>\n",
       "      <td>0.003087</td>\n",
       "      <td>0.010821</td>\n",
       "      <td>0.008119</td>\n",
       "      <td>0.006773</td>\n",
       "      <td>0.012640</td>\n",
       "      <td>...</td>\n",
       "      <td>0.004521</td>\n",
       "      <td>0.007275</td>\n",
       "      <td>0.006556</td>\n",
       "      <td>0.009326</td>\n",
       "      <td>0.005718</td>\n",
       "      <td>0.014988</td>\n",
       "      <td>0.007438</td>\n",
       "      <td>0.012618</td>\n",
       "      <td>0.006871</td>\n",
       "      <td>0.014259</td>\n",
       "    </tr>\n",
       "    <tr>\n",
       "      <th>590</th>\n",
       "      <td>1577</td>\n",
       "      <td>0.011357</td>\n",
       "      <td>0.010699</td>\n",
       "      <td>0.009720</td>\n",
       "      <td>0.030143</td>\n",
       "      <td>0.003019</td>\n",
       "      <td>0.010595</td>\n",
       "      <td>0.008112</td>\n",
       "      <td>0.006794</td>\n",
       "      <td>0.012540</td>\n",
       "      <td>...</td>\n",
       "      <td>0.004510</td>\n",
       "      <td>0.007259</td>\n",
       "      <td>0.006619</td>\n",
       "      <td>0.009298</td>\n",
       "      <td>0.005793</td>\n",
       "      <td>0.015218</td>\n",
       "      <td>0.007467</td>\n",
       "      <td>0.012605</td>\n",
       "      <td>0.006909</td>\n",
       "      <td>0.014215</td>\n",
       "    </tr>\n",
       "    <tr>\n",
       "      <th>591</th>\n",
       "      <td>1579</td>\n",
       "      <td>0.011469</td>\n",
       "      <td>0.010586</td>\n",
       "      <td>0.009915</td>\n",
       "      <td>0.029579</td>\n",
       "      <td>0.003028</td>\n",
       "      <td>0.010872</td>\n",
       "      <td>0.008110</td>\n",
       "      <td>0.006661</td>\n",
       "      <td>0.012194</td>\n",
       "      <td>...</td>\n",
       "      <td>0.004455</td>\n",
       "      <td>0.007273</td>\n",
       "      <td>0.006485</td>\n",
       "      <td>0.009228</td>\n",
       "      <td>0.005670</td>\n",
       "      <td>0.014574</td>\n",
       "      <td>0.007211</td>\n",
       "      <td>0.012799</td>\n",
       "      <td>0.006863</td>\n",
       "      <td>0.013888</td>\n",
       "    </tr>\n",
       "    <tr>\n",
       "      <th>592</th>\n",
       "      <td>1580</td>\n",
       "      <td>0.011130</td>\n",
       "      <td>0.010489</td>\n",
       "      <td>0.009877</td>\n",
       "      <td>0.030057</td>\n",
       "      <td>0.003023</td>\n",
       "      <td>0.010708</td>\n",
       "      <td>0.008109</td>\n",
       "      <td>0.006934</td>\n",
       "      <td>0.012103</td>\n",
       "      <td>...</td>\n",
       "      <td>0.004494</td>\n",
       "      <td>0.007335</td>\n",
       "      <td>0.006446</td>\n",
       "      <td>0.009594</td>\n",
       "      <td>0.005665</td>\n",
       "      <td>0.014845</td>\n",
       "      <td>0.007247</td>\n",
       "      <td>0.012732</td>\n",
       "      <td>0.006871</td>\n",
       "      <td>0.013847</td>\n",
       "    </tr>\n",
       "    <tr>\n",
       "      <th>593</th>\n",
       "      <td>1583</td>\n",
       "      <td>0.010955</td>\n",
       "      <td>0.010538</td>\n",
       "      <td>0.010003</td>\n",
       "      <td>0.029521</td>\n",
       "      <td>0.003014</td>\n",
       "      <td>0.010975</td>\n",
       "      <td>0.008194</td>\n",
       "      <td>0.006629</td>\n",
       "      <td>0.012049</td>\n",
       "      <td>...</td>\n",
       "      <td>0.004448</td>\n",
       "      <td>0.007270</td>\n",
       "      <td>0.006418</td>\n",
       "      <td>0.009221</td>\n",
       "      <td>0.005637</td>\n",
       "      <td>0.014694</td>\n",
       "      <td>0.007188</td>\n",
       "      <td>0.012849</td>\n",
       "      <td>0.006902</td>\n",
       "      <td>0.013923</td>\n",
       "    </tr>\n",
       "  </tbody>\n",
       "</table>\n",
       "<p>5 rows × 100 columns</p>\n",
       "</div>"
      ],
      "text/plain": [
       "       id  Acer_Capillipes  Acer_Circinatum  Acer_Mono  Acer_Opalus  \\\n",
       "589  1576         0.011456         0.011119   0.009949     0.029856   \n",
       "590  1577         0.011357         0.010699   0.009720     0.030143   \n",
       "591  1579         0.011469         0.010586   0.009915     0.029579   \n",
       "592  1580         0.011130         0.010489   0.009877     0.030057   \n",
       "593  1583         0.010955         0.010538   0.010003     0.029521   \n",
       "\n",
       "     Acer_Palmatum  Acer_Pictum  Acer_Platanoids  Acer_Rubrum  Acer_Rufinerve  \\\n",
       "589       0.003087     0.010821         0.008119     0.006773        0.012640   \n",
       "590       0.003019     0.010595         0.008112     0.006794        0.012540   \n",
       "591       0.003028     0.010872         0.008110     0.006661        0.012194   \n",
       "592       0.003023     0.010708         0.008109     0.006934        0.012103   \n",
       "593       0.003014     0.010975         0.008194     0.006629        0.012049   \n",
       "\n",
       "          ...         Salix_Fragilis  Salix_Intergra  Sorbus_Aria  \\\n",
       "589       ...               0.004521        0.007275     0.006556   \n",
       "590       ...               0.004510        0.007259     0.006619   \n",
       "591       ...               0.004455        0.007273     0.006485   \n",
       "592       ...               0.004494        0.007335     0.006446   \n",
       "593       ...               0.004448        0.007270     0.006418   \n",
       "\n",
       "     Tilia_Oliveri  Tilia_Platyphyllos  Tilia_Tomentosa  Ulmus_Bergmanniana  \\\n",
       "589       0.009326            0.005718         0.014988            0.007438   \n",
       "590       0.009298            0.005793         0.015218            0.007467   \n",
       "591       0.009228            0.005670         0.014574            0.007211   \n",
       "592       0.009594            0.005665         0.014845            0.007247   \n",
       "593       0.009221            0.005637         0.014694            0.007188   \n",
       "\n",
       "     Viburnum_Tinus  Viburnum_x_Rhytidophylloides  Zelkova_Serrata  \n",
       "589        0.012618                      0.006871         0.014259  \n",
       "590        0.012605                      0.006909         0.014215  \n",
       "591        0.012799                      0.006863         0.013888  \n",
       "592        0.012732                      0.006871         0.013847  \n",
       "593        0.012849                      0.006902         0.013923  \n",
       "\n",
       "[5 rows x 100 columns]"
      ]
     },
     "execution_count": 8,
     "metadata": {},
     "output_type": "execute_result"
    }
   ],
   "source": [
    "# Predict Test Set\n",
    "favorite_clf = SVC(C=13.450385695977566, class_weight='balanced', gamma=0.0043155380191205834,\n",
    " kernel='rbf',probability = True, random_state=1)\n",
    "favorite_clf.fit(X_train, y_train)\n",
    "test_predictions = favorite_clf.predict_proba(test)\n",
    "\n",
    "# Format DataFrame\n",
    "submission = pd.DataFrame(test_predictions, columns=classes)\n",
    "submission.insert(0, 'id', test_ids)\n",
    "submission.reset_index()\n",
    "\n",
    "# Export Submission\n",
    "#submission.to_csv('submission.csv', index = False)\n",
    "submission.tail()"
   ]
  },
  {
   "cell_type": "code",
   "execution_count": null,
   "metadata": {},
   "outputs": [],
   "source": []
  },
  {
   "cell_type": "code",
   "execution_count": null,
   "metadata": {},
   "outputs": [],
   "source": []
  },
  {
   "cell_type": "code",
   "execution_count": null,
   "metadata": {},
   "outputs": [],
   "source": []
  },
  {
   "cell_type": "code",
   "execution_count": null,
   "metadata": {},
   "outputs": [],
   "source": []
  }
 ],
 "metadata": {
  "_change_revision": 0,
  "_is_fork": false,
  "kernelspec": {
   "display_name": "Python 3",
   "language": "python",
   "name": "python3"
  },
  "language_info": {
   "codemirror_mode": {
    "name": "ipython",
    "version": 3
   },
   "file_extension": ".py",
   "mimetype": "text/x-python",
   "name": "python",
   "nbconvert_exporter": "python",
   "pygments_lexer": "ipython3",
   "version": "3.6.5"
  }
 },
 "nbformat": 4,
 "nbformat_minor": 1
}
